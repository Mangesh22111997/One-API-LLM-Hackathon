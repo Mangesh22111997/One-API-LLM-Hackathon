{
 "cells": [
  {
   "cell_type": "markdown",
   "id": "0d62620f",
   "metadata": {
    "id": "0d62620f",
    "papermill": {
     "duration": 0.00822,
     "end_time": "2023-09-04T05:03:23.645333",
     "exception": false,
     "start_time": "2023-09-04T05:03:23.637113",
     "status": "completed"
    },
    "tags": []
   },
   "source": [
    "# Finetune LLaMA2 and MPT on Intel Xeon CPU"
   ]
  },
  {
   "cell_type": "markdown",
   "id": "c327c003",
   "metadata": {
    "id": "c327c003",
    "papermill": {
     "duration": 0.004233,
     "end_time": "2023-09-04T05:03:23.656624",
     "exception": false,
     "start_time": "2023-09-04T05:03:23.652391",
     "status": "completed"
    },
    "tags": []
   },
   "source": [
    "## 1. Prerequisite​"
   ]
  },
  {
   "cell_type": "code",
   "execution_count": null,
   "id": "fh-8EcN8vqmJ",
   "metadata": {
    "colab": {
     "base_uri": "https://localhost:8080/"
    },
    "id": "fh-8EcN8vqmJ",
    "outputId": "89ef3276-aa6e-4f1b-9163-b1a5380f4d92"
   },
   "outputs": [],
   "source": [
    "!git clone https://github.com/intel/intel-extension-for-transformers.git\n",
    "\n",
    "!pip install -r requirements.txt"
   ]
  },
  {
   "cell_type": "markdown",
   "id": "341265af",
   "metadata": {
    "id": "341265af",
    "papermill": {
     "duration": 0.003582,
     "end_time": "2023-09-04T05:03:23.664605",
     "exception": false,
     "start_time": "2023-09-04T05:03:23.661023",
     "status": "completed"
    },
    "tags": []
   },
   "source": [
    "### 1.1 Setup Environment​"
   ]
  },
  {
   "cell_type": "code",
   "execution_count": null,
   "id": "4b5bf612",
   "metadata": {
    "colab": {
     "base_uri": "https://localhost:8080/"
    },
    "id": "4b5bf612",
    "outputId": "9736591c-efee-42ab-d64e-869bcac8824d"
   },
   "outputs": [],
   "source": [
    "!pip install intel-extension-for-transformers torch datasets"
   ]
  },
  {
   "cell_type": "markdown",
   "id": "95001899",
   "metadata": {
    "id": "95001899",
    "papermill": {
     "duration": 0.002828,
     "end_time": "2023-09-04T05:03:23.670622",
     "exception": false,
     "start_time": "2023-09-04T05:03:23.667794",
     "status": "completed"
    },
    "tags": []
   },
   "source": [
    "### 1.2 Prepare Dataset"
   ]
  },
  {
   "cell_type": "markdown",
   "id": "3e0a3909",
   "metadata": {
    "id": "3e0a3909",
    "papermill": {
     "duration": 0.002961,
     "end_time": "2023-09-04T05:03:23.676592",
     "exception": false,
     "start_time": "2023-09-04T05:03:23.673631",
     "status": "completed"
    },
    "tags": []
   },
   "source": [
    "Download Alpaca dataset from [here](https://github.com/tatsu-lab/stanford_alpaca/blob/main/alpaca_data.json)."
   ]
  },
  {
   "cell_type": "code",
   "execution_count": 1,
   "id": "d17f0af8",
   "metadata": {
    "id": "d17f0af8",
    "papermill": {
     "duration": 0.030173,
     "end_time": "2023-09-04T05:03:23.709551",
     "exception": false,
     "start_time": "2023-09-04T05:03:23.679378",
     "status": "completed"
    },
    "tags": []
   },
   "outputs": [],
   "source": [
    "#provide the input data\n",
    "alpaca_data_path = \"bot_data_1_4_chapter.json\"  \n",
    "\n",
    "#using open llama 3b\n",
    "llama2_model_name_or_path = \"openlm-research/open_llama_3b\" \n",
    "\n",
    "# use this for LLAMA-2-7b-hf : meta-llama/Llama-2-7b-hf\""
   ]
  },
  {
   "cell_type": "markdown",
   "id": "8560d487",
   "metadata": {
    "id": "8560d487",
    "papermill": {
     "duration": 0.006213,
     "end_time": "2023-09-04T05:03:23.722287",
     "exception": false,
     "start_time": "2023-09-04T05:03:23.716074",
     "status": "completed"
    },
    "tags": []
   },
   "source": [
    "## 2. Finetune LLaMA2 on Intel Xeon CPU with LoRA"
   ]
  },
  {
   "cell_type": "markdown",
   "id": "706e19e8",
   "metadata": {
    "id": "706e19e8",
    "papermill": {
     "duration": 0.003017,
     "end_time": "2023-09-04T05:03:23.730215",
     "exception": false,
     "start_time": "2023-09-04T05:03:23.727198",
     "status": "completed"
    },
    "tags": []
   },
   "source": [
    "### 2.1 Setup Finetuning Config"
   ]
  },
  {
   "cell_type": "code",
   "execution_count": null,
   "id": "eb256f78",
   "metadata": {
    "colab": {
     "base_uri": "https://localhost:8080/"
    },
    "id": "eb256f78",
    "outputId": "8334e591-c94b-4789-c003-b089b6f5091e",
    "papermill": {
     "duration": 3.589273,
     "end_time": "2023-09-04T05:03:27.322844",
     "exception": false,
     "start_time": "2023-09-04T05:03:23.733571",
     "status": "completed"
    },
    "tags": []
   },
   "outputs": [],
   "source": [
    "from transformers import TrainingArguments\n",
    "from intel_extension_for_transformers.neural_chat.config import (\n",
    "    ModelArguments,\n",
    "    DataArguments,\n",
    "    FinetuningArguments,\n",
    "    TextGenerationFinetuningConfig,\n",
    ")\n",
    "\n",
    "model_args = ModelArguments(\n",
    "    model_name_or_path=llama2_model_name_or_path,\n",
    "    use_fast_tokenizer=False,\n",
    ")\n",
    "\n",
    "data_args = DataArguments(\n",
    "    train_file=alpaca_data_path,\n",
    "    dataset_concatenation=True,\n",
    ")\n",
    "\n",
    "training_args = TrainingArguments(\n",
    "    output_dir=\"./llama_peft_finetuned_model\",\n",
    "    overwrite_output_dir=True,\n",
    "    do_train=True,\n",
    "    do_eval=True,\n",
    "    per_device_train_batch_size=4,\n",
    "    gradient_accumulation_steps=2,\n",
    "    learning_rate=0.01,\n",
    "    num_train_epochs=2,\n",
    "    save_strategy=\"no\",\n",
    "    log_level=\"info\",\n",
    "    save_total_limit=2,\n",
    "    bf16=True,\n",
    ")\n",
    "\n",
    "finetune_args = FinetuningArguments(\n",
    "    lora_all_linear=True,\n",
    "    do_lm_eval=True,\n",
    ")\n",
    "\n",
    "finetune_cfg = TextGenerationFinetuningConfig(\n",
    "        model_args=model_args,\n",
    "        data_args=data_args,\n",
    "        training_args=training_args,\n",
    "        finetune_args=finetune_args,\n",
    ")"
   ]
  },
  {
   "cell_type": "markdown",
   "id": "0deb125c",
   "metadata": {
    "id": "0deb125c",
    "papermill": {
     "duration": 0.005453,
     "end_time": "2023-09-04T05:03:27.335842",
     "exception": false,
     "start_time": "2023-09-04T05:03:27.330389",
     "status": "completed"
    },
    "tags": []
   },
   "source": [
    "### 2.2 Finetuning"
   ]
  },
  {
   "cell_type": "code",
   "execution_count": null,
   "id": "8a780d52",
   "metadata": {
    "colab": {
     "base_uri": "https://localhost:8080/"
    },
    "id": "8a780d52",
    "outputId": "69588b49-a303-4226-8c7b-81518c9dbf8f",
    "papermill": {
     "duration": 75002.192354,
     "end_time": "2023-09-05T01:53:29.533552",
     "exception": false,
     "start_time": "2023-09-04T05:03:27.341198",
     "status": "completed"
    },
    "tags": []
   },
   "outputs": [],
   "source": [
    "from intel_extension_for_transformers.neural_chat.chatbot import finetune_model\n",
    "finetune_model(finetune_cfg)"
   ]
  },
  {
   "cell_type": "markdown",
   "id": "221d2e3f-ce6c-4f74-9c65-ceec15ff0f15",
   "metadata": {},
   "source": [
    "### Note: For using LLAMA-2-7b-hf, you need to get the access form the official website and then generate access token in write mode"
   ]
  },
  {
   "cell_type": "code",
   "execution_count": 7,
   "id": "iZPk5FULKAyj",
   "metadata": {
    "colab": {
     "base_uri": "https://localhost:8080/",
     "height": 162,
     "referenced_widgets": [
      "596e00077bd247e79d7f61dcf2d94999",
      "a646ce497c5440b88a7a97227128f3e2",
      "1fd162e182bc41d88d720d6ad4d844d1",
      "23e7115f0db34698a2a7b8ca2de43138",
      "11fca1b673154e16a8a6a5ac646cea01",
      "80542bfbf698499dbcac69f4904609df",
      "9604db5e24984c48a5352e9ac7a235f9",
      "fa144f0c09184eb4aac571dc8715e045",
      "8dc721332a7a4b9ba29d8a1a8a44ac5d",
      "69d68ddd945d4b9da368d5b1805cd754",
      "0dafd348aae8494da7f3b68e18c604fa",
      "00b2827c93724bec81ed4996babe6d85",
      "ace34d06bdc2420ba4667c40b900149d",
      "dcfb469b730b409289bb2fa8e4fac500",
      "86f25f8f72164236977c7538827edc5f",
      "54ccdaeb9643404ebda2324dc63d7d69",
      "0f7fe5da16ad43f0a6a83b717ad79ab8",
      "ad4e0aa9e8934486a46833c8ca9864cf",
      "39bf35b0274d4b75b5ad97a428e95010",
      "45a1046c8a00494eaa529de3a399c5b9",
      "a11ef3dabf4345c680162a68a71e8c12",
      "4b833cd6f0c84f19af35786898595b43",
      "92043429eeaa4a15b2b97b2659c1abef",
      "d725b04f12d44971a4d657a5d4b14f92",
      "df5692bc22974e3c822baf91b147b8ee",
      "6ca1771d4ed042d495b0471c913cfe88",
      "38e2f3f1a6a4454ea418fade6f6c8c58",
      "01808ef63bde49a393fddd276e4988eb",
      "5734964712db4b3282b8a159f8e04410",
      "cb22bc1e02864093b85de84a9ba6b23b",
      "01b1c59f12f047f1973b862b9a30ba0b",
      "aa6acba095f5456db28326ddcc183db7"
     ]
    },
    "id": "iZPk5FULKAyj",
    "outputId": "c89c0cd8-cae6-487c-c6e6-c4d33b5d36c6"
   },
   "outputs": [
    {
     "data": {
      "application/vnd.jupyter.widget-view+json": {
       "model_id": "2c7d544860a94d6483e814ebe32d6af2",
       "version_major": 2,
       "version_minor": 0
      },
      "text/plain": [
       "VBox(children=(HTML(value='<center> <img\\nsrc=https://huggingface.co/front/assets/huggingface_logo-noborder.sv…"
      ]
     },
     "metadata": {},
     "output_type": "display_data"
    }
   ],
   "source": [
    "# Paste the access code here\n",
    "from huggingface_hub import notebook_login\n",
    "notebook_login()"
   ]
  },
  {
   "cell_type": "markdown",
   "id": "cbbf37b1-1783-4eca-b571-429c9bc3defb",
   "metadata": {},
   "source": [
    "### 3. Inference with the model"
   ]
  },
  {
   "cell_type": "code",
   "execution_count": null,
   "id": "01e19413-d8b7-4049-a63f-3aa7d1f5a1f6",
   "metadata": {},
   "outputs": [],
   "source": [
    "from intel_extension_for_transformers.neural_chat.models.model_utils import load_model, predict_stream\n",
    "from transformers import set_seed\n",
    "set_seed(27)\n",
    "\n",
    "\n",
    "base_model_path = \"meta-llama/Llama-2-7b-hf\"\n",
    "peft_model_path = \"./llama_peft_finetuned_model\"\n",
    "\n",
    "load_model(model_name=base_model_path,\n",
    "        tokenizer_name=base_model_path,\n",
    "        peft_path=peft_model_path,\n",
    "        device=\"cuda\",\n",
    "        )\n",
    "\n",
    "template = \"\"\"\n",
    "### System:\n",
    "- You are a helpful assistant chatbot trained by Intel.\n",
    "- You answer questions.\n",
    "- You are excited to be able to help the user, but will refuse to do anything that could be considered harmful to the user.\n",
    "- You are more than just an information source, you are also able to write poetry, short stories, and make jokes.</s>\n",
    "### User:\n",
    "{}</s>\n",
    "### Assistant:\n",
    "\"\"\"\n",
    "\n",
    "query = \"who founded cnvrg.io?\"\n",
    "\n",
    "params = {\n",
    "        \"prompt\": template.format(query),\n",
    "        \"device\": \"cuda\",\n",
    "        \"model_name\": base_model_path,\n",
    "        \"use_cache\": True,\n",
    "        \"repetition_penalty\": 1.0,\n",
    "        \"temperature\": 0.1,\n",
    "        \"top_k\": 10,\n",
    "        \"top_p\": 0.75,\n",
    "        \"num_beams\": 0,\n",
    "        \"max_new_tokens\": 128\n",
    "        }\n",
    "\n",
    "for new_text in predict_stream(**params):\n",
    "    print(new_text, end=\"\", flush=True)\n"
   ]
  },
  {
   "cell_type": "code",
   "execution_count": null,
   "id": "347701c9-b91a-4e1c-98c8-a501767c74a6",
   "metadata": {},
   "outputs": [],
   "source": []
  }
 ],
 "metadata": {
  "accelerator": "GPU",
  "colab": {
   "gpuType": "T4",
   "provenance": []
  },
  "kernelspec": {
   "display_name": "pytorch-gpu",
   "language": "python",
   "name": "pytorch-gpu"
  },
  "language_info": {
   "codemirror_mode": {
    "name": "ipython",
    "version": 3
   },
   "file_extension": ".py",
   "mimetype": "text/x-python",
   "name": "python",
   "nbconvert_exporter": "python",
   "pygments_lexer": "ipython3",
   "version": "3.9.16"
  },
  "papermill": {
   "default_parameters": {},
   "duration": 128369.690355,
   "end_time": "2023-09-05T16:42:51.931791",
   "environment_variables": {},
   "exception": null,
   "input_path": "finetune_on_Intel_Xeon_CPU.ipynb",
   "output_path": "tmp.ipynb",
   "parameters": {},
   "start_time": "2023-09-04T05:03:22.241436",
   "version": "2.4.0"
  },
  "widgets": {
   "application/vnd.jupyter.widget-state+json": {
    "00b2827c93724bec81ed4996babe6d85": {
     "model_module": "@jupyter-widgets/base",
     "model_module_version": "1.2.0",
     "model_name": "LayoutModel",
     "state": {
      "_model_module": "@jupyter-widgets/base",
      "_model_module_version": "1.2.0",
      "_model_name": "LayoutModel",
      "_view_count": null,
      "_view_module": "@jupyter-widgets/base",
      "_view_module_version": "1.2.0",
      "_view_name": "LayoutView",
      "align_content": null,
      "align_items": null,
      "align_self": null,
      "border": null,
      "bottom": null,
      "display": null,
      "flex": null,
      "flex_flow": null,
      "grid_area": null,
      "grid_auto_columns": null,
      "grid_auto_flow": null,
      "grid_auto_rows": null,
      "grid_column": null,
      "grid_gap": null,
      "grid_row": null,
      "grid_template_areas": null,
      "grid_template_columns": null,
      "grid_template_rows": null,
      "height": null,
      "justify_content": null,
      "justify_items": null,
      "left": null,
      "margin": null,
      "max_height": null,
      "max_width": null,
      "min_height": null,
      "min_width": null,
      "object_fit": null,
      "object_position": null,
      "order": null,
      "overflow": null,
      "overflow_x": null,
      "overflow_y": null,
      "padding": null,
      "right": null,
      "top": null,
      "visibility": null,
      "width": null
     }
    },
    "01808ef63bde49a393fddd276e4988eb": {
     "model_module": "@jupyter-widgets/controls",
     "model_module_version": "1.5.0",
     "model_name": "DescriptionStyleModel",
     "state": {
      "_model_module": "@jupyter-widgets/controls",
      "_model_module_version": "1.5.0",
      "_model_name": "DescriptionStyleModel",
      "_view_count": null,
      "_view_module": "@jupyter-widgets/base",
      "_view_module_version": "1.2.0",
      "_view_name": "StyleView",
      "description_width": ""
     }
    },
    "01b1c59f12f047f1973b862b9a30ba0b": {
     "model_module": "@jupyter-widgets/base",
     "model_module_version": "1.2.0",
     "model_name": "LayoutModel",
     "state": {
      "_model_module": "@jupyter-widgets/base",
      "_model_module_version": "1.2.0",
      "_model_name": "LayoutModel",
      "_view_count": null,
      "_view_module": "@jupyter-widgets/base",
      "_view_module_version": "1.2.0",
      "_view_name": "LayoutView",
      "align_content": null,
      "align_items": null,
      "align_self": null,
      "border": null,
      "bottom": null,
      "display": null,
      "flex": null,
      "flex_flow": null,
      "grid_area": null,
      "grid_auto_columns": null,
      "grid_auto_flow": null,
      "grid_auto_rows": null,
      "grid_column": null,
      "grid_gap": null,
      "grid_row": null,
      "grid_template_areas": null,
      "grid_template_columns": null,
      "grid_template_rows": null,
      "height": null,
      "justify_content": null,
      "justify_items": null,
      "left": null,
      "margin": null,
      "max_height": null,
      "max_width": null,
      "min_height": null,
      "min_width": null,
      "object_fit": null,
      "object_position": null,
      "order": null,
      "overflow": null,
      "overflow_x": null,
      "overflow_y": null,
      "padding": null,
      "right": null,
      "top": null,
      "visibility": null,
      "width": null
     }
    },
    "0dafd348aae8494da7f3b68e18c604fa": {
     "model_module": "@jupyter-widgets/controls",
     "model_module_version": "1.5.0",
     "model_name": "DescriptionStyleModel",
     "state": {
      "_model_module": "@jupyter-widgets/controls",
      "_model_module_version": "1.5.0",
      "_model_name": "DescriptionStyleModel",
      "_view_count": null,
      "_view_module": "@jupyter-widgets/base",
      "_view_module_version": "1.2.0",
      "_view_name": "StyleView",
      "description_width": ""
     }
    },
    "0f7fe5da16ad43f0a6a83b717ad79ab8": {
     "model_module": "@jupyter-widgets/controls",
     "model_module_version": "1.5.0",
     "model_name": "DescriptionStyleModel",
     "state": {
      "_model_module": "@jupyter-widgets/controls",
      "_model_module_version": "1.5.0",
      "_model_name": "DescriptionStyleModel",
      "_view_count": null,
      "_view_module": "@jupyter-widgets/base",
      "_view_module_version": "1.2.0",
      "_view_name": "StyleView",
      "description_width": ""
     }
    },
    "11fca1b673154e16a8a6a5ac646cea01": {
     "model_module": "@jupyter-widgets/controls",
     "model_module_version": "1.5.0",
     "model_name": "ButtonModel",
     "state": {
      "_dom_classes": [],
      "_model_module": "@jupyter-widgets/controls",
      "_model_module_version": "1.5.0",
      "_model_name": "ButtonModel",
      "_view_count": null,
      "_view_module": "@jupyter-widgets/controls",
      "_view_module_version": "1.5.0",
      "_view_name": "ButtonView",
      "button_style": "",
      "description": "Login",
      "disabled": false,
      "icon": "",
      "layout": "IPY_MODEL_dcfb469b730b409289bb2fa8e4fac500",
      "style": "IPY_MODEL_86f25f8f72164236977c7538827edc5f",
      "tooltip": ""
     }
    },
    "1fd162e182bc41d88d720d6ad4d844d1": {
     "model_module": "@jupyter-widgets/controls",
     "model_module_version": "1.5.0",
     "model_name": "PasswordModel",
     "state": {
      "_dom_classes": [],
      "_model_module": "@jupyter-widgets/controls",
      "_model_module_version": "1.5.0",
      "_model_name": "PasswordModel",
      "_view_count": null,
      "_view_module": "@jupyter-widgets/controls",
      "_view_module_version": "1.5.0",
      "_view_name": "PasswordView",
      "continuous_update": true,
      "description": "Token:",
      "description_tooltip": null,
      "disabled": false,
      "layout": "IPY_MODEL_69d68ddd945d4b9da368d5b1805cd754",
      "placeholder": "​",
      "style": "IPY_MODEL_0dafd348aae8494da7f3b68e18c604fa",
      "value": ""
     }
    },
    "23e7115f0db34698a2a7b8ca2de43138": {
     "model_module": "@jupyter-widgets/controls",
     "model_module_version": "1.5.0",
     "model_name": "CheckboxModel",
     "state": {
      "_dom_classes": [],
      "_model_module": "@jupyter-widgets/controls",
      "_model_module_version": "1.5.0",
      "_model_name": "CheckboxModel",
      "_view_count": null,
      "_view_module": "@jupyter-widgets/controls",
      "_view_module_version": "1.5.0",
      "_view_name": "CheckboxView",
      "description": "Add token as git credential?",
      "description_tooltip": null,
      "disabled": false,
      "indent": true,
      "layout": "IPY_MODEL_00b2827c93724bec81ed4996babe6d85",
      "style": "IPY_MODEL_ace34d06bdc2420ba4667c40b900149d",
      "value": true
     }
    },
    "38e2f3f1a6a4454ea418fade6f6c8c58": {
     "model_module": "@jupyter-widgets/base",
     "model_module_version": "1.2.0",
     "model_name": "LayoutModel",
     "state": {
      "_model_module": "@jupyter-widgets/base",
      "_model_module_version": "1.2.0",
      "_model_name": "LayoutModel",
      "_view_count": null,
      "_view_module": "@jupyter-widgets/base",
      "_view_module_version": "1.2.0",
      "_view_name": "LayoutView",
      "align_content": null,
      "align_items": null,
      "align_self": null,
      "border": null,
      "bottom": null,
      "display": null,
      "flex": null,
      "flex_flow": null,
      "grid_area": null,
      "grid_auto_columns": null,
      "grid_auto_flow": null,
      "grid_auto_rows": null,
      "grid_column": null,
      "grid_gap": null,
      "grid_row": null,
      "grid_template_areas": null,
      "grid_template_columns": null,
      "grid_template_rows": null,
      "height": null,
      "justify_content": null,
      "justify_items": null,
      "left": null,
      "margin": null,
      "max_height": null,
      "max_width": null,
      "min_height": null,
      "min_width": null,
      "object_fit": null,
      "object_position": null,
      "order": null,
      "overflow": null,
      "overflow_x": null,
      "overflow_y": null,
      "padding": null,
      "right": null,
      "top": null,
      "visibility": null,
      "width": null
     }
    },
    "39bf35b0274d4b75b5ad97a428e95010": {
     "model_module": "@jupyter-widgets/base",
     "model_module_version": "1.2.0",
     "model_name": "LayoutModel",
     "state": {
      "_model_module": "@jupyter-widgets/base",
      "_model_module_version": "1.2.0",
      "_model_name": "LayoutModel",
      "_view_count": null,
      "_view_module": "@jupyter-widgets/base",
      "_view_module_version": "1.2.0",
      "_view_name": "LayoutView",
      "align_content": null,
      "align_items": null,
      "align_self": null,
      "border": null,
      "bottom": null,
      "display": null,
      "flex": null,
      "flex_flow": null,
      "grid_area": null,
      "grid_auto_columns": null,
      "grid_auto_flow": null,
      "grid_auto_rows": null,
      "grid_column": null,
      "grid_gap": null,
      "grid_row": null,
      "grid_template_areas": null,
      "grid_template_columns": null,
      "grid_template_rows": null,
      "height": null,
      "justify_content": null,
      "justify_items": null,
      "left": null,
      "margin": null,
      "max_height": null,
      "max_width": null,
      "min_height": null,
      "min_width": null,
      "object_fit": null,
      "object_position": null,
      "order": null,
      "overflow": null,
      "overflow_x": null,
      "overflow_y": null,
      "padding": null,
      "right": null,
      "top": null,
      "visibility": null,
      "width": null
     }
    },
    "45a1046c8a00494eaa529de3a399c5b9": {
     "model_module": "@jupyter-widgets/controls",
     "model_module_version": "1.5.0",
     "model_name": "DescriptionStyleModel",
     "state": {
      "_model_module": "@jupyter-widgets/controls",
      "_model_module_version": "1.5.0",
      "_model_name": "DescriptionStyleModel",
      "_view_count": null,
      "_view_module": "@jupyter-widgets/base",
      "_view_module_version": "1.2.0",
      "_view_name": "StyleView",
      "description_width": ""
     }
    },
    "4b833cd6f0c84f19af35786898595b43": {
     "model_module": "@jupyter-widgets/controls",
     "model_module_version": "1.5.0",
     "model_name": "LabelModel",
     "state": {
      "_dom_classes": [],
      "_model_module": "@jupyter-widgets/controls",
      "_model_module_version": "1.5.0",
      "_model_name": "LabelModel",
      "_view_count": null,
      "_view_module": "@jupyter-widgets/controls",
      "_view_module_version": "1.5.0",
      "_view_name": "LabelView",
      "description": "",
      "description_tooltip": null,
      "layout": "IPY_MODEL_38e2f3f1a6a4454ea418fade6f6c8c58",
      "placeholder": "​",
      "style": "IPY_MODEL_01808ef63bde49a393fddd276e4988eb",
      "value": "Your token has been saved in your configured git credential helpers (store)."
     }
    },
    "54ccdaeb9643404ebda2324dc63d7d69": {
     "model_module": "@jupyter-widgets/base",
     "model_module_version": "1.2.0",
     "model_name": "LayoutModel",
     "state": {
      "_model_module": "@jupyter-widgets/base",
      "_model_module_version": "1.2.0",
      "_model_name": "LayoutModel",
      "_view_count": null,
      "_view_module": "@jupyter-widgets/base",
      "_view_module_version": "1.2.0",
      "_view_name": "LayoutView",
      "align_content": null,
      "align_items": null,
      "align_self": null,
      "border": null,
      "bottom": null,
      "display": null,
      "flex": null,
      "flex_flow": null,
      "grid_area": null,
      "grid_auto_columns": null,
      "grid_auto_flow": null,
      "grid_auto_rows": null,
      "grid_column": null,
      "grid_gap": null,
      "grid_row": null,
      "grid_template_areas": null,
      "grid_template_columns": null,
      "grid_template_rows": null,
      "height": null,
      "justify_content": null,
      "justify_items": null,
      "left": null,
      "margin": null,
      "max_height": null,
      "max_width": null,
      "min_height": null,
      "min_width": null,
      "object_fit": null,
      "object_position": null,
      "order": null,
      "overflow": null,
      "overflow_x": null,
      "overflow_y": null,
      "padding": null,
      "right": null,
      "top": null,
      "visibility": null,
      "width": null
     }
    },
    "5734964712db4b3282b8a159f8e04410": {
     "model_module": "@jupyter-widgets/base",
     "model_module_version": "1.2.0",
     "model_name": "LayoutModel",
     "state": {
      "_model_module": "@jupyter-widgets/base",
      "_model_module_version": "1.2.0",
      "_model_name": "LayoutModel",
      "_view_count": null,
      "_view_module": "@jupyter-widgets/base",
      "_view_module_version": "1.2.0",
      "_view_name": "LayoutView",
      "align_content": null,
      "align_items": null,
      "align_self": null,
      "border": null,
      "bottom": null,
      "display": null,
      "flex": null,
      "flex_flow": null,
      "grid_area": null,
      "grid_auto_columns": null,
      "grid_auto_flow": null,
      "grid_auto_rows": null,
      "grid_column": null,
      "grid_gap": null,
      "grid_row": null,
      "grid_template_areas": null,
      "grid_template_columns": null,
      "grid_template_rows": null,
      "height": null,
      "justify_content": null,
      "justify_items": null,
      "left": null,
      "margin": null,
      "max_height": null,
      "max_width": null,
      "min_height": null,
      "min_width": null,
      "object_fit": null,
      "object_position": null,
      "order": null,
      "overflow": null,
      "overflow_x": null,
      "overflow_y": null,
      "padding": null,
      "right": null,
      "top": null,
      "visibility": null,
      "width": null
     }
    },
    "596e00077bd247e79d7f61dcf2d94999": {
     "model_module": "@jupyter-widgets/controls",
     "model_module_version": "1.5.0",
     "model_name": "VBoxModel",
     "state": {
      "_dom_classes": [],
      "_model_module": "@jupyter-widgets/controls",
      "_model_module_version": "1.5.0",
      "_model_name": "VBoxModel",
      "_view_count": null,
      "_view_module": "@jupyter-widgets/controls",
      "_view_module_version": "1.5.0",
      "_view_name": "VBoxView",
      "box_style": "",
      "children": [
       "IPY_MODEL_a11ef3dabf4345c680162a68a71e8c12",
       "IPY_MODEL_4b833cd6f0c84f19af35786898595b43",
       "IPY_MODEL_92043429eeaa4a15b2b97b2659c1abef",
       "IPY_MODEL_d725b04f12d44971a4d657a5d4b14f92"
      ],
      "layout": "IPY_MODEL_9604db5e24984c48a5352e9ac7a235f9"
     }
    },
    "69d68ddd945d4b9da368d5b1805cd754": {
     "model_module": "@jupyter-widgets/base",
     "model_module_version": "1.2.0",
     "model_name": "LayoutModel",
     "state": {
      "_model_module": "@jupyter-widgets/base",
      "_model_module_version": "1.2.0",
      "_model_name": "LayoutModel",
      "_view_count": null,
      "_view_module": "@jupyter-widgets/base",
      "_view_module_version": "1.2.0",
      "_view_name": "LayoutView",
      "align_content": null,
      "align_items": null,
      "align_self": null,
      "border": null,
      "bottom": null,
      "display": null,
      "flex": null,
      "flex_flow": null,
      "grid_area": null,
      "grid_auto_columns": null,
      "grid_auto_flow": null,
      "grid_auto_rows": null,
      "grid_column": null,
      "grid_gap": null,
      "grid_row": null,
      "grid_template_areas": null,
      "grid_template_columns": null,
      "grid_template_rows": null,
      "height": null,
      "justify_content": null,
      "justify_items": null,
      "left": null,
      "margin": null,
      "max_height": null,
      "max_width": null,
      "min_height": null,
      "min_width": null,
      "object_fit": null,
      "object_position": null,
      "order": null,
      "overflow": null,
      "overflow_x": null,
      "overflow_y": null,
      "padding": null,
      "right": null,
      "top": null,
      "visibility": null,
      "width": null
     }
    },
    "6ca1771d4ed042d495b0471c913cfe88": {
     "model_module": "@jupyter-widgets/controls",
     "model_module_version": "1.5.0",
     "model_name": "DescriptionStyleModel",
     "state": {
      "_model_module": "@jupyter-widgets/controls",
      "_model_module_version": "1.5.0",
      "_model_name": "DescriptionStyleModel",
      "_view_count": null,
      "_view_module": "@jupyter-widgets/base",
      "_view_module_version": "1.2.0",
      "_view_name": "StyleView",
      "description_width": ""
     }
    },
    "80542bfbf698499dbcac69f4904609df": {
     "model_module": "@jupyter-widgets/controls",
     "model_module_version": "1.5.0",
     "model_name": "HTMLModel",
     "state": {
      "_dom_classes": [],
      "_model_module": "@jupyter-widgets/controls",
      "_model_module_version": "1.5.0",
      "_model_name": "HTMLModel",
      "_view_count": null,
      "_view_module": "@jupyter-widgets/controls",
      "_view_module_version": "1.5.0",
      "_view_name": "HTMLView",
      "description": "",
      "description_tooltip": null,
      "layout": "IPY_MODEL_54ccdaeb9643404ebda2324dc63d7d69",
      "placeholder": "​",
      "style": "IPY_MODEL_0f7fe5da16ad43f0a6a83b717ad79ab8",
      "value": "\n<b>Pro Tip:</b> If you don't already have one, you can create a dedicated\n'notebooks' token with 'write' access, that you can then easily reuse for all\nnotebooks. </center>"
     }
    },
    "86f25f8f72164236977c7538827edc5f": {
     "model_module": "@jupyter-widgets/controls",
     "model_module_version": "1.5.0",
     "model_name": "ButtonStyleModel",
     "state": {
      "_model_module": "@jupyter-widgets/controls",
      "_model_module_version": "1.5.0",
      "_model_name": "ButtonStyleModel",
      "_view_count": null,
      "_view_module": "@jupyter-widgets/base",
      "_view_module_version": "1.2.0",
      "_view_name": "StyleView",
      "button_color": null,
      "font_weight": ""
     }
    },
    "8dc721332a7a4b9ba29d8a1a8a44ac5d": {
     "model_module": "@jupyter-widgets/controls",
     "model_module_version": "1.5.0",
     "model_name": "DescriptionStyleModel",
     "state": {
      "_model_module": "@jupyter-widgets/controls",
      "_model_module_version": "1.5.0",
      "_model_name": "DescriptionStyleModel",
      "_view_count": null,
      "_view_module": "@jupyter-widgets/base",
      "_view_module_version": "1.2.0",
      "_view_name": "StyleView",
      "description_width": ""
     }
    },
    "92043429eeaa4a15b2b97b2659c1abef": {
     "model_module": "@jupyter-widgets/controls",
     "model_module_version": "1.5.0",
     "model_name": "LabelModel",
     "state": {
      "_dom_classes": [],
      "_model_module": "@jupyter-widgets/controls",
      "_model_module_version": "1.5.0",
      "_model_name": "LabelModel",
      "_view_count": null,
      "_view_module": "@jupyter-widgets/controls",
      "_view_module_version": "1.5.0",
      "_view_name": "LabelView",
      "description": "",
      "description_tooltip": null,
      "layout": "IPY_MODEL_5734964712db4b3282b8a159f8e04410",
      "placeholder": "​",
      "style": "IPY_MODEL_cb22bc1e02864093b85de84a9ba6b23b",
      "value": "Your token has been saved to /root/.cache/huggingface/token"
     }
    },
    "9604db5e24984c48a5352e9ac7a235f9": {
     "model_module": "@jupyter-widgets/base",
     "model_module_version": "1.2.0",
     "model_name": "LayoutModel",
     "state": {
      "_model_module": "@jupyter-widgets/base",
      "_model_module_version": "1.2.0",
      "_model_name": "LayoutModel",
      "_view_count": null,
      "_view_module": "@jupyter-widgets/base",
      "_view_module_version": "1.2.0",
      "_view_name": "LayoutView",
      "align_content": null,
      "align_items": "center",
      "align_self": null,
      "border": null,
      "bottom": null,
      "display": "flex",
      "flex": null,
      "flex_flow": "column",
      "grid_area": null,
      "grid_auto_columns": null,
      "grid_auto_flow": null,
      "grid_auto_rows": null,
      "grid_column": null,
      "grid_gap": null,
      "grid_row": null,
      "grid_template_areas": null,
      "grid_template_columns": null,
      "grid_template_rows": null,
      "height": null,
      "justify_content": null,
      "justify_items": null,
      "left": null,
      "margin": null,
      "max_height": null,
      "max_width": null,
      "min_height": null,
      "min_width": null,
      "object_fit": null,
      "object_position": null,
      "order": null,
      "overflow": null,
      "overflow_x": null,
      "overflow_y": null,
      "padding": null,
      "right": null,
      "top": null,
      "visibility": null,
      "width": "50%"
     }
    },
    "a11ef3dabf4345c680162a68a71e8c12": {
     "model_module": "@jupyter-widgets/controls",
     "model_module_version": "1.5.0",
     "model_name": "LabelModel",
     "state": {
      "_dom_classes": [],
      "_model_module": "@jupyter-widgets/controls",
      "_model_module_version": "1.5.0",
      "_model_name": "LabelModel",
      "_view_count": null,
      "_view_module": "@jupyter-widgets/controls",
      "_view_module_version": "1.5.0",
      "_view_name": "LabelView",
      "description": "",
      "description_tooltip": null,
      "layout": "IPY_MODEL_df5692bc22974e3c822baf91b147b8ee",
      "placeholder": "​",
      "style": "IPY_MODEL_6ca1771d4ed042d495b0471c913cfe88",
      "value": "Token is valid (permission: write)."
     }
    },
    "a646ce497c5440b88a7a97227128f3e2": {
     "model_module": "@jupyter-widgets/controls",
     "model_module_version": "1.5.0",
     "model_name": "HTMLModel",
     "state": {
      "_dom_classes": [],
      "_model_module": "@jupyter-widgets/controls",
      "_model_module_version": "1.5.0",
      "_model_name": "HTMLModel",
      "_view_count": null,
      "_view_module": "@jupyter-widgets/controls",
      "_view_module_version": "1.5.0",
      "_view_name": "HTMLView",
      "description": "",
      "description_tooltip": null,
      "layout": "IPY_MODEL_fa144f0c09184eb4aac571dc8715e045",
      "placeholder": "​",
      "style": "IPY_MODEL_8dc721332a7a4b9ba29d8a1a8a44ac5d",
      "value": "<center> <img\nsrc=https://huggingface.co/front/assets/huggingface_logo-noborder.svg\nalt='Hugging Face'> <br> Copy a token from <a\nhref=\"https://huggingface.co/settings/tokens\" target=\"_blank\">your Hugging Face\ntokens page</a> and paste it below. <br> Immediately click login after copying\nyour token or it might be stored in plain text in this notebook file. </center>"
     }
    },
    "aa6acba095f5456db28326ddcc183db7": {
     "model_module": "@jupyter-widgets/controls",
     "model_module_version": "1.5.0",
     "model_name": "DescriptionStyleModel",
     "state": {
      "_model_module": "@jupyter-widgets/controls",
      "_model_module_version": "1.5.0",
      "_model_name": "DescriptionStyleModel",
      "_view_count": null,
      "_view_module": "@jupyter-widgets/base",
      "_view_module_version": "1.2.0",
      "_view_name": "StyleView",
      "description_width": ""
     }
    },
    "ace34d06bdc2420ba4667c40b900149d": {
     "model_module": "@jupyter-widgets/controls",
     "model_module_version": "1.5.0",
     "model_name": "DescriptionStyleModel",
     "state": {
      "_model_module": "@jupyter-widgets/controls",
      "_model_module_version": "1.5.0",
      "_model_name": "DescriptionStyleModel",
      "_view_count": null,
      "_view_module": "@jupyter-widgets/base",
      "_view_module_version": "1.2.0",
      "_view_name": "StyleView",
      "description_width": ""
     }
    },
    "ad4e0aa9e8934486a46833c8ca9864cf": {
     "model_module": "@jupyter-widgets/controls",
     "model_module_version": "1.5.0",
     "model_name": "LabelModel",
     "state": {
      "_dom_classes": [],
      "_model_module": "@jupyter-widgets/controls",
      "_model_module_version": "1.5.0",
      "_model_name": "LabelModel",
      "_view_count": null,
      "_view_module": "@jupyter-widgets/controls",
      "_view_module_version": "1.5.0",
      "_view_name": "LabelView",
      "description": "",
      "description_tooltip": null,
      "layout": "IPY_MODEL_39bf35b0274d4b75b5ad97a428e95010",
      "placeholder": "​",
      "style": "IPY_MODEL_45a1046c8a00494eaa529de3a399c5b9",
      "value": "Connecting..."
     }
    },
    "cb22bc1e02864093b85de84a9ba6b23b": {
     "model_module": "@jupyter-widgets/controls",
     "model_module_version": "1.5.0",
     "model_name": "DescriptionStyleModel",
     "state": {
      "_model_module": "@jupyter-widgets/controls",
      "_model_module_version": "1.5.0",
      "_model_name": "DescriptionStyleModel",
      "_view_count": null,
      "_view_module": "@jupyter-widgets/base",
      "_view_module_version": "1.2.0",
      "_view_name": "StyleView",
      "description_width": ""
     }
    },
    "d725b04f12d44971a4d657a5d4b14f92": {
     "model_module": "@jupyter-widgets/controls",
     "model_module_version": "1.5.0",
     "model_name": "LabelModel",
     "state": {
      "_dom_classes": [],
      "_model_module": "@jupyter-widgets/controls",
      "_model_module_version": "1.5.0",
      "_model_name": "LabelModel",
      "_view_count": null,
      "_view_module": "@jupyter-widgets/controls",
      "_view_module_version": "1.5.0",
      "_view_name": "LabelView",
      "description": "",
      "description_tooltip": null,
      "layout": "IPY_MODEL_01b1c59f12f047f1973b862b9a30ba0b",
      "placeholder": "​",
      "style": "IPY_MODEL_aa6acba095f5456db28326ddcc183db7",
      "value": "Login successful"
     }
    },
    "dcfb469b730b409289bb2fa8e4fac500": {
     "model_module": "@jupyter-widgets/base",
     "model_module_version": "1.2.0",
     "model_name": "LayoutModel",
     "state": {
      "_model_module": "@jupyter-widgets/base",
      "_model_module_version": "1.2.0",
      "_model_name": "LayoutModel",
      "_view_count": null,
      "_view_module": "@jupyter-widgets/base",
      "_view_module_version": "1.2.0",
      "_view_name": "LayoutView",
      "align_content": null,
      "align_items": null,
      "align_self": null,
      "border": null,
      "bottom": null,
      "display": null,
      "flex": null,
      "flex_flow": null,
      "grid_area": null,
      "grid_auto_columns": null,
      "grid_auto_flow": null,
      "grid_auto_rows": null,
      "grid_column": null,
      "grid_gap": null,
      "grid_row": null,
      "grid_template_areas": null,
      "grid_template_columns": null,
      "grid_template_rows": null,
      "height": null,
      "justify_content": null,
      "justify_items": null,
      "left": null,
      "margin": null,
      "max_height": null,
      "max_width": null,
      "min_height": null,
      "min_width": null,
      "object_fit": null,
      "object_position": null,
      "order": null,
      "overflow": null,
      "overflow_x": null,
      "overflow_y": null,
      "padding": null,
      "right": null,
      "top": null,
      "visibility": null,
      "width": null
     }
    },
    "df5692bc22974e3c822baf91b147b8ee": {
     "model_module": "@jupyter-widgets/base",
     "model_module_version": "1.2.0",
     "model_name": "LayoutModel",
     "state": {
      "_model_module": "@jupyter-widgets/base",
      "_model_module_version": "1.2.0",
      "_model_name": "LayoutModel",
      "_view_count": null,
      "_view_module": "@jupyter-widgets/base",
      "_view_module_version": "1.2.0",
      "_view_name": "LayoutView",
      "align_content": null,
      "align_items": null,
      "align_self": null,
      "border": null,
      "bottom": null,
      "display": null,
      "flex": null,
      "flex_flow": null,
      "grid_area": null,
      "grid_auto_columns": null,
      "grid_auto_flow": null,
      "grid_auto_rows": null,
      "grid_column": null,
      "grid_gap": null,
      "grid_row": null,
      "grid_template_areas": null,
      "grid_template_columns": null,
      "grid_template_rows": null,
      "height": null,
      "justify_content": null,
      "justify_items": null,
      "left": null,
      "margin": null,
      "max_height": null,
      "max_width": null,
      "min_height": null,
      "min_width": null,
      "object_fit": null,
      "object_position": null,
      "order": null,
      "overflow": null,
      "overflow_x": null,
      "overflow_y": null,
      "padding": null,
      "right": null,
      "top": null,
      "visibility": null,
      "width": null
     }
    },
    "fa144f0c09184eb4aac571dc8715e045": {
     "model_module": "@jupyter-widgets/base",
     "model_module_version": "1.2.0",
     "model_name": "LayoutModel",
     "state": {
      "_model_module": "@jupyter-widgets/base",
      "_model_module_version": "1.2.0",
      "_model_name": "LayoutModel",
      "_view_count": null,
      "_view_module": "@jupyter-widgets/base",
      "_view_module_version": "1.2.0",
      "_view_name": "LayoutView",
      "align_content": null,
      "align_items": null,
      "align_self": null,
      "border": null,
      "bottom": null,
      "display": null,
      "flex": null,
      "flex_flow": null,
      "grid_area": null,
      "grid_auto_columns": null,
      "grid_auto_flow": null,
      "grid_auto_rows": null,
      "grid_column": null,
      "grid_gap": null,
      "grid_row": null,
      "grid_template_areas": null,
      "grid_template_columns": null,
      "grid_template_rows": null,
      "height": null,
      "justify_content": null,
      "justify_items": null,
      "left": null,
      "margin": null,
      "max_height": null,
      "max_width": null,
      "min_height": null,
      "min_width": null,
      "object_fit": null,
      "object_position": null,
      "order": null,
      "overflow": null,
      "overflow_x": null,
      "overflow_y": null,
      "padding": null,
      "right": null,
      "top": null,
      "visibility": null,
      "width": null
     }
    }
   }
  }
 },
 "nbformat": 4,
 "nbformat_minor": 5
}
